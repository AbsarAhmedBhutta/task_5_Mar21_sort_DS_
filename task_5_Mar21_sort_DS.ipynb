{
 "cells": [
  {
   "cell_type": "code",
   "execution_count": 1,
   "id": "a1214a97",
   "metadata": {},
   "outputs": [],
   "source": [
    "import tensorflow as tf\n",
    "from tensorflow.keras.preprocessing import image\n",
    "from tensorflow.keras.applications.resnet50 import preprocess_input, decode_predictions, ResNet50\n",
    "import os\n",
    "import shutil\n"
   ]
  },
  {
   "cell_type": "code",
   "execution_count": 2,
   "id": "221a413b",
   "metadata": {},
   "outputs": [],
   "source": [
    "boots_dir = 'C:/Users/Absar/boots/'\n",
    "shoes_dir = 'C:/Users/Absar/shoes/'\n",
    "sandals_dir = 'C:/Users/Absar/sandals/'\n"
   ]
  },
  {
   "cell_type": "code",
   "execution_count": 3,
   "id": "225fb19a",
   "metadata": {},
   "outputs": [],
   "source": [
    "model = ResNet50(weights='imagenet')\n"
   ]
  },
  {
   "cell_type": "code",
   "execution_count": null,
   "id": "03ebc78c",
   "metadata": {},
   "outputs": [
    {
     "name": "stdout",
     "output_type": "stream",
     "text": [
      "File has read permission\n",
      "1/1 [==============================] - 3s 3s/step\n",
      "File has read permission\n",
      "1/1 [==============================] - 0s 377ms/step\n",
      "File has read permission\n",
      "1/1 [==============================] - 0s 368ms/step\n",
      "File has read permission\n",
      "1/1 [==============================] - 0s 389ms/step\n",
      "File has read permission\n",
      "1/1 [==============================] - 0s 380ms/step\n",
      "File has read permission\n",
      "1/1 [==============================] - 0s 372ms/step\n",
      "File has read permission\n",
      "1/1 [==============================] - 0s 376ms/step\n",
      "File has read permission\n",
      "1/1 [==============================] - 0s 378ms/step\n",
      "File has read permission\n",
      "1/1 [==============================] - 0s 436ms/step\n",
      "File has read permission\n",
      "1/1 [==============================] - 0s 390ms/step\n",
      "File has read permission\n",
      "1/1 [==============================] - 0s 387ms/step\n",
      "File has read permission\n",
      "1/1 [==============================] - 0s 356ms/step\n",
      "File has read permission\n",
      "1/1 [==============================] - 0s 431ms/step\n",
      "File has read permission\n",
      "1/1 [==============================] - 0s 364ms/step\n",
      "File has read permission\n",
      "1/1 [==============================] - 0s 367ms/step\n",
      "File has read permission\n",
      "1/1 [==============================] - 0s 361ms/step\n",
      "File has read permission\n",
      "1/1 [==============================] - 0s 343ms/step\n",
      "File has read permission\n",
      "1/1 [==============================] - 0s 387ms/step\n",
      "File has read permission\n",
      "1/1 [==============================] - ETA: 0s"
     ]
    }
   ],
   "source": [
    "image_extensions = ['.jpg', '.png', '.gif']\n",
    "\n",
    "# Loop through all files in directory\n",
    "for filename in os.listdir('C:/Users/Absar/shoe_boot_sandal/'):\n",
    "    if any(ext in filename for ext in image_extensions):\n",
    "        file_path = os.path.join('C:/Users/Absar/shoe_boot_sandal/', filename)\n",
    "        if os.access(file_path, os.R_OK):\n",
    "            print('File has read permission')\n",
    "        else:\n",
    "            print('File doesnt have read permission')\n",
    "            os.chmod(file_path, 0o755)\n",
    "            \n",
    "        # Load image, preprocess it, and make prediction\n",
    "        img = image.load_img(file_path, target_size=(224, 224))\n",
    "        x = image.img_to_array(img)\n",
    "        x = preprocess_input(x)\n",
    "        x = tf.keras.backend.expand_dims(x, axis=0)\n",
    "        preds = model.predict(x)\n",
    "        decoded_preds = decode_predictions(preds, top=3)[0]\n",
    "        top_pred = decoded_preds[0][1]\n",
    "        \n",
    "        if top_pred == 'cowboy_boot':\n",
    "            shutil.move(file_path, boots_dir)\n",
    "        elif top_pred == 'sandal':\n",
    "            shutil.move(file_path, sandals_dir)\n",
    "        elif top_pred == 'running_shoe':\n",
    "            shutil.move(file_path, shoes_dir)"
   ]
  },
  {
   "cell_type": "code",
   "execution_count": null,
   "id": "8f3d82aa",
   "metadata": {},
   "outputs": [],
   "source": []
  }
 ],
 "metadata": {
  "kernelspec": {
   "display_name": "Python 3 (ipykernel)",
   "language": "python",
   "name": "python3"
  },
  "language_info": {
   "codemirror_mode": {
    "name": "ipython",
    "version": 3
   },
   "file_extension": ".py",
   "mimetype": "text/x-python",
   "name": "python",
   "nbconvert_exporter": "python",
   "pygments_lexer": "ipython3",
   "version": "3.9.13"
  }
 },
 "nbformat": 4,
 "nbformat_minor": 5
}
